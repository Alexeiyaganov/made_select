{
 "cells": [
  {
   "cell_type": "code",
   "execution_count": null,
   "id": "4d339a92",
   "metadata": {},
   "outputs": [],
   "source": [
    "import math\n",
    "n=int(input())\n",
    "*y,=map(int,input().split(' '))\n",
    "w=0\n",
    "res=\"\"\n",
    "for i in y:\n",
    "    s=abs(i-w)\n",
    "    k=int(math.log2(s))\n",
    "    if(k==26):\n",
    "        res+=\" \"\n",
    "    else:\n",
    "        res+=chr(97+k)\n",
    "    w=i\n",
    "print(res)"
   ]
  },
  {
   "cell_type": "code",
   "execution_count": null,
   "id": "113f3f1e",
   "metadata": {},
   "outputs": [],
   "source": [
    "n, m =input().split()\n",
    "m=int(m)\n",
    "n=int(n)\n",
    "x=[]\n",
    "for i in range(n):\n",
    "    y=input()\n",
    "    y=list(y)\n",
    "    l=0\n",
    "    r=m-1\n",
    "    while l<r:\n",
    "        tmp=y[l]\n",
    "        y[l]=y[r]\n",
    "        y[r]=tmp\n",
    "        l+=1\n",
    "        r-=1\n",
    "    x.append(y)\n",
    "    \n",
    "    \n",
    "l=0\n",
    "r=n-1\n",
    "while l<r:\n",
    "    tmp=x[l]\n",
    "    x[l]=x[r]\n",
    "    x[r]=tmp\n",
    "    l+=1\n",
    "    r-=1\n",
    "    \n",
    "i=n-2\n",
    "while i>=0:\n",
    "    for j in range(m):\n",
    "        if x[i][j]=='/'or x[i][j]=='\\\\':\n",
    "            x[i+1][j]=x[i][j]\n",
    "            x[i][j]='.'\n",
    "    i-=1\n",
    "            \n",
    "\n",
    "for i in x:\n",
    "    print(''.join(i))\n"
   ]
  },
  {
   "cell_type": "code",
   "execution_count": null,
   "id": "5392d05c",
   "metadata": {},
   "outputs": [],
   "source": [
    "print(''.join(x[0]))\n"
   ]
  },
  {
   "cell_type": "code",
   "execution_count": null,
   "id": "c73262e0",
   "metadata": {},
   "outputs": [],
   "source": [
    "./x\\.\n"
   ]
  },
  {
   "cell_type": "code",
   "execution_count": null,
   "id": "4d29eb5f",
   "metadata": {},
   "outputs": [],
   "source": [
    "n, m =int(input().split())\n",
    "arr = [\n",
    ".............\n",
    "    ''\n",
    "]\n",
    "...._........\n",
    ".._/A\\_..._..\n",
    "./B\\_/D\\_/F\\.\n",
    ".\\_/C\\_/E\\_/.\n",
    "...\\_/G\\_/...\n",
    ".....\\_/.....\n",
    ".............\n",
    "'"
   ]
  },
  {
   "cell_type": "code",
   "execution_count": null,
   "id": "da480294",
   "metadata": {},
   "outputs": [],
   "source": [
    "\"\"+\"\\\""
   ]
  },
  {
   "cell_type": "code",
   "execution_count": null,
   "id": "747cb632",
   "metadata": {},
   "outputs": [],
   "source": [
    "n =int(input())\n",
    "#x=[]\n",
    "x={}\n",
    "for i in range(n):\n",
    "    *y,=map(int,input().split())\n",
    "    x.update({i:y})\n",
    "x=sorted(x)\n",
    "for i in range(n):\n",
    "    count=0\n",
    "    for j in range(n):\n",
    "        if i==j:\n",
    "            continue\n",
    "        elif x[i][0]>=x[j][2] or x[i][2]<=x[j][0] or x[i][1]>=x[j][3] or x[i][3]<=x[j][1]:\n",
    "            continue\n",
    "        else:\n",
    "            count+=1\n",
    "    count=str(count)\n",
    "    if i==n-1:\n",
    "        print(count)\n",
    "    else:\n",
    "        print(count, end=\" \")"
   ]
  },
  {
   "cell_type": "code",
   "execution_count": null,
   "id": "f9a143c8",
   "metadata": {},
   "outputs": [],
   "source": [
    "n =int(input())\n",
    "x=[]\n",
    "# x={}\n",
    "for i in range(n):\n",
    "    *y,=map(int,input().split())\n",
    "    x.append(y+[i])\n",
    "x=sorted(x, key=lambda xx: xx[0])\n",
    "print(x)\n",
    "for v in x:\n",
    "    print(v)"
   ]
  },
  {
   "cell_type": "markdown",
   "id": "36a13eaf",
   "metadata": {},
   "source": [
    "n,m,l=int(input().split())\n",
    "x=[]\n",
    "for _ in range(n):\n",
    "    "
   ]
  },
  {
   "cell_type": "code",
   "execution_count": null,
   "id": "9da6cb63",
   "metadata": {},
   "outputs": [],
   "source": [
    "import numpy as np\n",
    "n,m,l=map(int, input().split())\n",
    "x=[]\n",
    "for _ in range(n):\n",
    "    z=list(map(int,input().split()))\n",
    "    x.append(z)\n",
    "y=[]\n",
    "for _ in range(m):\n",
    "    z1=list(map(int,input().split()))\n",
    "    y.append(z1)\n",
    "a = np.array(x)\n",
    "b = np.array(y)\n",
    "total = a.dot(b)\n",
    "print('\\n'.join([' '.join(list(map(str, total[i]))) for i in range(n)]))"
   ]
  },
  {
   "cell_type": "code",
   "execution_count": null,
   "id": "8ad29a53",
   "metadata": {},
   "outputs": [],
   "source": [
    "print('\\n'.join([' '.join(list(map(str, total[i]))) for i in range(n)]))"
   ]
  },
  {
   "cell_type": "code",
   "execution_count": null,
   "id": "b9c9a488",
   "metadata": {},
   "outputs": [],
   "source": [
    "import sqlite3\n",
    " \n",
    "# Connecting to sqlite\n",
    "# connection object\n",
    "connection_obj = sqlite3.connect('logs.db')\n",
    " \n",
    "# cursor object\n",
    "cursor = connection_obj.cursor()\n",
    " \n",
    "# Drop the GEEK table if already exists.\n",
    "cursor.execute(\"DROP TABLE IF EXISTS logs\")\n",
    " \n",
    "# Creating table\n",
    "table = \"\"\" CREATE TABLE logs (\n",
    "            user_id VARCHAR(255) NOT NULL,\n",
    "            time INT\n",
    "        );  \"\"\"\n",
    "        \n",
    "\n",
    "\n",
    "cursor.execute(table)\n",
    " \n",
    "print(\"Table is Ready\")\n",
    "# print()\n",
    "\n",
    "cursor.execute(\"\"\"insert into logs (user_id, time) values (\"u1\", 0); \"\"\")\n",
    "cursor.execute(\"\"\"insert into logs (user_id, time) values (\"u1\", 20); \"\"\")\n",
    "cursor.execute(\"\"\"insert into logs (user_id, time) values (\"u2\", 30); \"\"\")\n",
    "cursor.execute(\"\"\"insert into logs (user_id, time) values (\"u2\", 40); \"\"\")\n",
    "cursor.execute(\"\"\"insert into logs (user_id, time) values (\"u1\", 40); \"\"\")\n",
    "cursor.execute(\"\"\"insert into logs (user_id, time) values (\"u1\", 60); \"\"\")\n",
    "cursor.execute(\"\"\"insert into logs (user_id, time) values (\"u2\", 65); \"\"\")\n",
    "cursor.execute(\"\"\"insert into logs (user_id, time) values (\"u1\", 80); \"\"\")\n",
    "cursor.execute(\"\"\"insert into logs (user_id, time) values (\"u1\", 130); \"\"\")\n",
    "cursor.execute(\"\"\"insert into logs (user_id, time) values (\"u1\", 150); \"\"\")\n",
    "cursor.execute(\"\"\"insert into logs (user_id, time) values (\"u1\", 200); \"\"\")\n",
    "# cursor.execute(\"SELECT user_id, count(time.shift()-time>30) FROM logs group by user_id\")\n",
    "cursor.execute(\"select user_id, sum(c)+1 as cnt from (SELECT user_id, ((time-Lag(time,1) OVER (PARTITION BY user_id ORDER BY time ) )>30 ) as c FROM logs) group by user_id order by user_id\")\n",
    "for row in cursor:\n",
    "    print(row)\n",
    "\n",
    "    \n",
    "    \n",
    "# Close the connection\n",
    "connection_obj.close()"
   ]
  },
  {
   "cell_type": "code",
   "execution_count": null,
   "id": "186b2df1",
   "metadata": {},
   "outputs": [],
   "source": [
    "n=input()\n",
    "n=int(n)\n",
    "x=[]\n",
    "k=input()\n",
    "k=int(k)\n",
    "for _ in range(k):\n",
    "    z=input()\n",
    "    z=int(z)\n",
    "    x.append(z)\n",
    "x=sorted(x)\n",
    "flag=0\n",
    "for i in range(n-k):\n",
    "    z1=input()\n",
    "    z1=int(z1)\n",
    "    x.append(z1)\n",
    "    x=sorted(x)\n",
    "    if(x.index(z1)/(len(x)-1))>=0.9:\n",
    "        print(i+k)\n",
    "        flag=1\n",
    "        break\n",
    "if not flag:\n",
    "    print(-1)"
   ]
  },
  {
   "cell_type": "markdown",
   "id": "19dccfde",
   "metadata": {},
   "source": [
    "n=input()\n",
    "n=int(n)\n",
    "for i in range(n)"
   ]
  },
  {
   "cell_type": "code",
   "execution_count": 3,
   "id": "1f237c60",
   "metadata": {},
   "outputs": [
    {
     "name": "stdout",
     "output_type": "stream",
     "text": [
      "3 25:1 35:33 27:25\n",
      "6655410837134621985443904000000\n"
     ]
    }
   ],
   "source": [
    "# import itertools\n",
    "from scipy.special import comb\n",
    "n=input().split()\n",
    "res=1\n",
    "for i in range(1,int(n[0])+1):\n",
    "    z=n[i].split(\":\")\n",
    "    z1,z2=int(z[0]), int(z[1])\n",
    "    z1,z2=min(z1,z2),max(z1,z2)\n",
    "    if i!=5 and z2==25 or i==5 and z2==15:\n",
    "        res*= comb(z2+z1-1, z1, exact=True) #len(list(itertools.combinations_with_replacement(range(1, z2+1),z1)))\n",
    "    elif i!=5:\n",
    "        res*=comb(24+24-1, 24, exact=True)*2**(z2-26)#(len(list(itertools.combinations_with_replacement(range(1, 25),24)))*(2**(z2-26)))\n",
    "    else:\n",
    "        res*=comb(14+14-1, 14, exact=True)*2**(z2-16)#(len(list(itertools.combinations_with_replacement(range(1, 15),14)))*(2**(z2-16)))\n",
    "print(res)"
   ]
  },
  {
   "cell_type": "code",
   "execution_count": null,
   "id": "a15bc9a5",
   "metadata": {},
   "outputs": [],
   "source": [
    "3 25:1 35:33 27:25"
   ]
  }
 ],
 "metadata": {
  "kernelspec": {
   "display_name": "Python 3 (ipykernel)",
   "language": "python",
   "name": "python3"
  },
  "language_info": {
   "codemirror_mode": {
    "name": "ipython",
    "version": 3
   },
   "file_extension": ".py",
   "mimetype": "text/x-python",
   "name": "python",
   "nbconvert_exporter": "python",
   "pygments_lexer": "ipython3",
   "version": "3.9.7"
  }
 },
 "nbformat": 4,
 "nbformat_minor": 5
}
