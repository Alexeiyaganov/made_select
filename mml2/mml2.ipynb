{
 "cells": [
  {
   "cell_type": "code",
   "execution_count": 4,
   "id": "cdf48656",
   "metadata": {},
   "outputs": [],
   "source": [
    "import pandas as pd\n",
    "import os\n",
    "import cv2 as cv\n",
    "import cv2\n",
    "from collections import defaultdict\n",
    "import numpy as np\n",
    "import matplotlib.pyplot as plt"
   ]
  },
  {
   "cell_type": "code",
   "execution_count": 5,
   "id": "666fb381",
   "metadata": {},
   "outputs": [],
   "source": [
    "def segment_by_angle_kmeans(lines, k=2, **kwargs):\n",
    "    #Groups lines based on angle with k-means.\n",
    "    #Uses k-means on the coordinates of the angle on the unit circle \n",
    "    #to segment `k` angles inside `lines`.\n",
    "\n",
    "    # Define criteria = (type, max_iter, epsilon)\n",
    "    default_criteria_type = cv2.TERM_CRITERIA_EPS + cv2.TERM_CRITERIA_MAX_ITER\n",
    "    criteria = kwargs.get('criteria', (default_criteria_type, 10, 1.0))\n",
    "    flags = kwargs.get('flags', cv2.KMEANS_RANDOM_CENTERS)\n",
    "    attempts = kwargs.get('attempts', 10)\n",
    "\n",
    "    # returns angles in [0, pi] in radians\n",
    "    angles = np.array([line[0][1] for line in lines])\n",
    "    # multiply the angles by two and find coordinates of that angle\n",
    "    pts = np.array([[np.cos(2*angle), np.sin(2*angle)]\n",
    "                    for angle in angles], dtype=np.float32)\n",
    "\n",
    "    # run kmeans on the coords\n",
    "    labels, centers = cv2.kmeans(pts, k, None, criteria, attempts, flags)[1:]\n",
    "    labels = labels.reshape(-1)  # transpose to row vec\n",
    "\n",
    "    # segment lines based on their kmeans label\n",
    "    segmented = defaultdict(list)\n",
    "    for i, line in zip(range(len(lines)), lines):\n",
    "        segmented[labels[i]].append(line)\n",
    "    segmented = list(segmented.values())\n",
    "    return segmented\n",
    "\n",
    "def intersection(line1, line2):\n",
    "    #Finds the intersection of two lines given in Hesse normal form.\n",
    "    #Returns closest integer pixel locations.\n",
    "    #See https://stackoverflow.com/a/383527/5087436\n",
    "\n",
    "    rho1, theta1 = line1[0]\n",
    "    rho2, theta2 = line2[0]\n",
    "\n",
    "    A = np.array([\n",
    "        [np.cos(theta1), np.sin(theta1)],\n",
    "        [np.cos(theta2), np.sin(theta2)]\n",
    "    ])\n",
    "    b = np.array([[rho1], [rho2]])\n",
    "    x0, y0 = np.linalg.solve(A, b)\n",
    "    x0, y0 = int(np.round(x0)), int(np.round(y0))\n",
    "    return [[x0, y0]]\n",
    "\n",
    "\n",
    "def segmented_intersections(lines):\n",
    "    #Finds the intersections between groups of lines.\n",
    "\n",
    "    intersections = []\n",
    "    for i, group in enumerate(lines[:-1]):\n",
    "        for next_group in lines[i+1:]:\n",
    "            for line1 in group:\n",
    "                for line2 in next_group:\n",
    "                    intersections.append(intersection(line1, line2)) \n",
    "    return intersections\n",
    "\n",
    "def rect_from_crossings(crossings):\n",
    "    #find all rectangles without other points inside\n",
    "    rectangles = []\n",
    "\n",
    "    # Search all possible rectangles\n",
    "    for i in range(len(crossings)):\n",
    "        x1= int(crossings[i][0][0])\n",
    "        y1= int(crossings[i][0][1])\n",
    "\n",
    "        for j in range(len(crossings)):\n",
    "            x2= int(crossings[j][0][0])\n",
    "            y2= int(crossings[j][0][1])\n",
    "\n",
    "            #Search all points\n",
    "            flag = 1\n",
    "            for k in range(len(crossings)):\n",
    "                x3= int(crossings[k][0][0])\n",
    "                y3= int(crossings[k][0][1])\n",
    "\n",
    "                #Dont count double (reverse rectangles)\n",
    "                if (x1 > x2 or y1 > y2):\n",
    "                    flag = 0\n",
    "                #Dont count rectangles with points inside   \n",
    "                elif ((((x3 >= x1) and (x2 >= x3))and (y3 > y1) and (y2 > y3) or ((x3 > x1) and (x2 > x3))and (y3 >= y1) and (y2 >= y3))):    \n",
    "                    if(i!=k and j!=k):    \n",
    "                        flag = 0\n",
    "\n",
    "            if flag:\n",
    "                rectangles.append([[x1,y1],[x2,y2]])\n",
    "\n",
    "    return rectangles"
   ]
  },
  {
   "cell_type": "code",
   "execution_count": 6,
   "id": "a412d22e",
   "metadata": {},
   "outputs": [
    {
     "name": "stdout",
     "output_type": "stream",
     "text": [
      "None\n"
     ]
    }
   ],
   "source": [
    "# img = cv2.imread('TAJFp.jpg')\n",
    "#img = cv2.imread('Bj2uu.jpg')\n",
    "img = cv2.imread('./train_data/1.png')\n",
    "\n",
    "width = int(img.shape[1])\n",
    "height = int(img.shape[0])\n",
    "# print(width, height)\n",
    "\n",
    "# scale = 320/width\n",
    "# dim = (int(width*scale), int(height*scale))\n",
    "# resize image\n",
    "# img = cv2.resize(img, dim, interpolation = cv2.INTER_AREA) \n",
    "\n",
    "img2 = img.copy()\n",
    "gray = cv2.cvtColor(img,cv2.COLOR_BGR2GRAY)\n",
    "gray = cv2.GaussianBlur(gray,(5,5),cv2.BORDER_DEFAULT)\n",
    "# cv2.imshow(\"gray\", gray)\n",
    "\n",
    "# Parameters of Canny and Hough may have to be tweaked to work for as many cards as possible\n",
    "edges = cv2.Canny(gray,10,45,apertureSize = 7)\n",
    "lines = cv2.HoughLines(edges,1,np.pi/90,160)\n",
    "# print(edges)\n",
    "print(lines)\n",
    "#     segmented = segment_by_angle_kmeans(lines)\n",
    "#     crossings = segmented_intersections(segmented)\n",
    "#     rectangles = rect_from_crossings(crossings)\n",
    "\n",
    "#Find biggest remaining rectangle\n",
    "#     size = 0\n",
    "#     for i in range(len(rectangles)):\n",
    "#         x1 = rectangles[i][0][0]\n",
    "#         x2 = rectangles[i][1][0]\n",
    "#         y1 = rectangles[i][0][1]\n",
    "#         y2 = rectangles[i][1][1]\n",
    "\n",
    "#         if(size < (abs(x1-x2)*abs(y1-y2))):\n",
    "#             size = abs(x1-x2)*abs(y1-y2)\n",
    "#             x1_rect = x1\n",
    "#             x2_rect = x2\n",
    "#             y1_rect = y1\n",
    "#             y2_rect = y2\n",
    "\n",
    "#     cv2.rectangle(img2, (x1_rect,y1_rect), (x2_rect,y2_rect), (0,0,255), 2)\n",
    "#     roi = img[y1_rect:y2_rect, x1_rect:x2_rect]\n",
    "\n",
    "#     cv2.imshow(\"Output\",roi)\n",
    "#     cv2.imwrite(\"Output.png\", roi)\n",
    "#     cv2.waitKey()"
   ]
  },
  {
   "cell_type": "code",
   "execution_count": null,
   "id": "2082c12f",
   "metadata": {},
   "outputs": [],
   "source": []
  },
  {
   "cell_type": "code",
   "execution_count": 8,
   "id": "eee17baf",
   "metadata": {},
   "outputs": [],
   "source": [
    "def angle_cos(p0, p1, p2):\n",
    "    d1, d2 = (p0-p1).astype('float'), (p2-p1).astype('float')\n",
    "    return abs( np.dot(d1, d2) / np.sqrt( np.dot(d1, d1)*np.dot(d2, d2) ) )\n",
    "\n",
    "def find_squares(img):\n",
    "#     img = cv.GaussianBlur(img, (5, 5), 0)\n",
    "    squares = []\n",
    "    for gray in cv.split(img):\n",
    "        for thrs in range(0, 255, 26):\n",
    "            if thrs == 0:\n",
    "                bin = cv.Canny(gray, 0, 50, apertureSize=5)\n",
    "                bin = cv.dilate(bin, None)\n",
    "            else:\n",
    "                _retval, bin = cv.threshold(gray, thrs, 255, cv.THRESH_BINARY)\n",
    "            contours, _hierarchy = cv.findContours(bin, cv.RETR_LIST, cv.CHAIN_APPROX_SIMPLE)\n",
    "            for cnt in contours:\n",
    "                cnt_len = cv.arcLength(cnt, True)\n",
    "                cnt = cv.approxPolyDP(cnt, 0.02*cnt_len, True)\n",
    "                if len(cnt) == 4 and cv.contourArea(cnt) > 10 and cv.isContourConvex(cnt):\n",
    "                    cnt = cnt.reshape(-1, 2)\n",
    "                    max_cos = np.max([angle_cos( cnt[i], cnt[(i+1) % 4], cnt[(i+2) % 4] ) for i in range(4)])\n",
    "                    if max_cos < 0.01:\n",
    "                        squares.append(cnt)\n",
    "    return squares\n",
    "\n",
    "# def main():\n",
    "#     from glob import glob\n",
    "#     for fn in glob('../data/pic*.png'):\n",
    "#         img = cv.imread(fn)\n",
    "#         squares = find_squares(img)\n",
    "#         cv.drawContours( img, squares, -1, (0, 255, 0), 3 )\n",
    "#         cv.imshow('squares', img)\n",
    "#         ch = cv.waitKey()\n",
    "#         if ch == 27:\n",
    "#             break\n",
    "\n",
    "#     print('Done')"
   ]
  },
  {
   "cell_type": "code",
   "execution_count": 9,
   "id": "6f6d6d4c",
   "metadata": {},
   "outputs": [],
   "source": [
    "img = cv.imread('./train_data/4.png')\n",
    "squares = find_squares(img)"
   ]
  },
  {
   "cell_type": "code",
   "execution_count": 10,
   "id": "09267e8c",
   "metadata": {},
   "outputs": [
    {
     "data": {
      "text/plain": [
       "13.152946437965905"
      ]
     },
     "execution_count": 10,
     "metadata": {},
     "output_type": "execute_result"
    }
   ],
   "source": [
    "len(squares)**0.5"
   ]
  },
  {
   "cell_type": "code",
   "execution_count": 26,
   "id": "9b0c4b40",
   "metadata": {},
   "outputs": [
    {
     "data": {
      "text/plain": [
       "0        9.166667\n",
       "1        9.250000\n",
       "2        9.750000\n",
       "3       14.416667\n",
       "4       13.500000\n",
       "          ...    \n",
       "2995    15.750000\n",
       "2996     3.250000\n",
       "2997    12.916667\n",
       "2998     8.250000\n",
       "2999     3.333333\n",
       "Name: img_path, Length: 3000, dtype: float64"
      ]
     },
     "execution_count": 26,
     "metadata": {},
     "output_type": "execute_result"
    }
   ],
   "source": [
    "df['img_path'].apply(lambda x: len(find_squares(cv.imread(x)))/12)"
   ]
  },
  {
   "cell_type": "code",
   "execution_count": 27,
   "id": "4c3053ab",
   "metadata": {},
   "outputs": [],
   "source": [
    "lengths = _"
   ]
  },
  {
   "cell_type": "code",
   "execution_count": 10,
   "id": "bbdf3799",
   "metadata": {},
   "outputs": [],
   "source": [
    "x, y = lengths**2, df['label']"
   ]
  },
  {
   "cell_type": "code",
   "execution_count": 28,
   "id": "6222bc8f",
   "metadata": {},
   "outputs": [
    {
     "data": {
      "text/plain": [
       "<matplotlib.collections.PathCollection at 0x21233d1b940>"
      ]
     },
     "execution_count": 28,
     "metadata": {},
     "output_type": "execute_result"
    },
    {
     "data": {
      "image/png": "[encoded data removed]",
      "text/plain": [
       "<Figure size 432x288 with 1 Axes>"
      ]
     },
     "metadata": {
      "needs_background": "light"
     },
     "output_type": "display_data"
    }
   ],
   "source": [
    "plt.scatter(lengths, df['label'])plt.scatter(lengths, df['label'])"
   ]
  },
  {
   "cell_type": "code",
   "execution_count": 36,
   "id": "08f41af4",
   "metadata": {},
   "outputs": [
    {
     "data": {
      "text/plain": [
       "[<matplotlib.lines.Line2D at 0x21233ed37f0>]"
      ]
     },
     "execution_count": 36,
     "metadata": {},
     "output_type": "execute_result"
    },
    {
     "data": {
      "image/png": "[encoded data removed]",
      "text/plain": [
       "<Figure size 432x288 with 1 Axes>"
      ]
     },
     "metadata": {
      "needs_background": "light"
     },
     "output_type": "display_data"
    }
   ],
   "source": [
    "plt.scatter(df['label'], lengths-3.23)\n",
    "plt.plot([0, 10], [0, 10])"
   ]
  },
  {
   "cell_type": "code",
   "execution_count": 30,
   "id": "12d32b47",
   "metadata": {},
   "outputs": [
    {
     "data": {
      "text/plain": [
       "3.230861111111108"
      ]
     },
     "execution_count": 30,
     "metadata": {},
     "output_type": "execute_result"
    }
   ],
   "source": [
    "np.mean(lengths-df['label'])"
   ]
  },
  {
   "cell_type": "code",
   "execution_count": 50,
   "id": "564718de",
   "metadata": {},
   "outputs": [],
   "source": [
    "from sklearn import svm"
   ]
  },
  {
   "cell_type": "code",
   "execution_count": 53,
   "id": "f98115a2",
   "metadata": {},
   "outputs": [
    {
     "data": {
      "text/html": [
       "<style>#sk-container-id-1 {color: black;background-color: white;}#sk-container-id-1 pre{padding: 0;}#sk-container-id-1 div.sk-toggleable {background-color: white;}#sk-container-id-1 label.sk-toggleable__label {cursor: pointer;display: block;width: 100%;margin-bottom: 0;padding: 0.3em;box-sizing: border-box;text-align: center;}#sk-container-id-1 label.sk-toggleable__label-arrow:before {content: \"▸\";float: left;margin-right: 0.25em;color: #696969;}#sk-container-id-1 label.sk-toggleable__label-arrow:hover:before {color: black;}#sk-container-id-1 div.sk-estimator:hover label.sk-toggleable__label-arrow:before {color: black;}#sk-container-id-1 div.sk-toggleable__content {max-height: 0;max-width: 0;overflow: hidden;text-align: left;background-color: #f0f8ff;}#sk-container-id-1 div.sk-toggleable__content pre {margin: 0.2em;color: black;border-radius: 0.25em;background-color: #f0f8ff;}#sk-container-id-1 input.sk-toggleable__control:checked~div.sk-toggleable__content {max-height: 200px;max-width: 100%;overflow: auto;}#sk-container-id-1 input.sk-toggleable__control:checked~label.sk-toggleable__label-arrow:before {content: \"▾\";}#sk-container-id-1 div.sk-estimator input.sk-toggleable__control:checked~label.sk-toggleable__label {background-color: #d4ebff;}#sk-container-id-1 div.sk-label input.sk-toggleable__control:checked~label.sk-toggleable__label {background-color: #d4ebff;}#sk-container-id-1 input.sk-hidden--visually {border: 0;clip: rect(1px 1px 1px 1px);clip: rect(1px, 1px, 1px, 1px);height: 1px;margin: -1px;overflow: hidden;padding: 0;position: absolute;width: 1px;}#sk-container-id-1 div.sk-estimator {font-family: monospace;background-color: #f0f8ff;border: 1px dotted black;border-radius: 0.25em;box-sizing: border-box;margin-bottom: 0.5em;}#sk-container-id-1 div.sk-estimator:hover {background-color: #d4ebff;}#sk-container-id-1 div.sk-parallel-item::after {content: \"\";width: 100%;border-bottom: 1px solid gray;flex-grow: 1;}#sk-container-id-1 div.sk-label:hover label.sk-toggleable__label {background-color: #d4ebff;}#sk-container-id-1 div.sk-serial::before {content: \"\";position: absolute;border-left: 1px solid gray;box-sizing: border-box;top: 0;bottom: 0;left: 50%;z-index: 0;}#sk-container-id-1 div.sk-serial {display: flex;flex-direction: column;align-items: center;background-color: white;padding-right: 0.2em;padding-left: 0.2em;position: relative;}#sk-container-id-1 div.sk-item {position: relative;z-index: 1;}#sk-container-id-1 div.sk-parallel {display: flex;align-items: stretch;justify-content: center;background-color: white;position: relative;}#sk-container-id-1 div.sk-item::before, #sk-container-id-1 div.sk-parallel-item::before {content: \"\";position: absolute;border-left: 1px solid gray;box-sizing: border-box;top: 0;bottom: 0;left: 50%;z-index: -1;}#sk-container-id-1 div.sk-parallel-item {display: flex;flex-direction: column;z-index: 1;position: relative;background-color: white;}#sk-container-id-1 div.sk-parallel-item:first-child::after {align-self: flex-end;width: 50%;}#sk-container-id-1 div.sk-parallel-item:last-child::after {align-self: flex-start;width: 50%;}#sk-container-id-1 div.sk-parallel-item:only-child::after {width: 0;}#sk-container-id-1 div.sk-dashed-wrapped {border: 1px dashed gray;margin: 0 0.4em 0.5em 0.4em;box-sizing: border-box;padding-bottom: 0.4em;background-color: white;}#sk-container-id-1 div.sk-label label {font-family: monospace;font-weight: bold;display: inline-block;line-height: 1.2em;}#sk-container-id-1 div.sk-label-container {text-align: center;}#sk-container-id-1 div.sk-container {/* jupyter's `normalize.less` sets `[hidden] { display: none; }` but bootstrap.min.css set `[hidden] { display: none !important; }` so we also need the `!important` here to be able to override the default hidden behavior on the sphinx rendered scikit-learn.org. See: https://github.com/scikit-learn/scikit-learn/issues/21755 */display: inline-block !important;position: relative;}#sk-container-id-1 div.sk-text-repr-fallback {display: none;}</style><div id=\"sk-container-id-1\" class=\"sk-top-container\"><div class=\"sk-text-repr-fallback\"><pre>SVR()</pre><b>In a Jupyter environment, please rerun this cell to show the HTML representation or trust the notebook. <br />On GitHub, the HTML representation is unable to render, please try loading this page with nbviewer.org.</b></div><div class=\"sk-container\" hidden><div class=\"sk-item\"><div class=\"sk-estimator sk-toggleable\"><input class=\"sk-toggleable__control sk-hidden--visually\" id=\"sk-estimator-id-1\" type=\"checkbox\" checked><label for=\"sk-estimator-id-1\" class=\"sk-toggleable__label sk-toggleable__label-arrow\">SVR</label><div class=\"sk-toggleable__content\"><pre>SVR()</pre></div></div></div></div></div>"
      ],
      "text/plain": [
       "SVR()"
      ]
     },
     "execution_count": 53,
     "metadata": {},
     "output_type": "execute_result"
    }
   ],
   "source": [
    "regr = svm.SVR()\n",
    "regr.fit([[i] for i in x], y)"
   ]
  },
  {
   "cell_type": "code",
   "execution_count": 56,
   "id": "c3a20392",
   "metadata": {},
   "outputs": [
    {
     "data": {
      "text/plain": [
       "(array([  5.,  22.,  80., 273., 658., 953., 684., 247.,  65.,  13.]),\n",
       " array([-8.7479681 , -7.15629365, -5.5646192 , -3.97294476, -2.38127031,\n",
       "        -0.78959586,  0.80207858,  2.39375303,  3.98542748,  5.57710192,\n",
       "         7.16877637]),\n",
       " <BarContainer object of 10 artists>)"
      ]
     },
     "execution_count": 56,
     "metadata": {},
     "output_type": "execute_result"
    },
    {
     "data": {
      "image/png": "[encoded data removed]",
      "text/plain": [
       "<Figure size 432x288 with 1 Axes>"
      ]
     },
     "metadata": {
      "needs_background": "light"
     },
     "output_type": "display_data"
    }
   ],
   "source": [
    "plt.hist(regr.predict([[i] for i in x])-y)"
   ]
  },
  {
   "cell_type": "code",
   "execution_count": 12,
   "id": "5457c563",
   "metadata": {},
   "outputs": [],
   "source": [
    "df = pd.read_csv('train.csv')"
   ]
  },
  {
   "cell_type": "code",
   "execution_count": 13,
   "id": "d418a251",
   "metadata": {},
   "outputs": [],
   "source": [
    "df_test = pd.read_csv('test.csv')"
   ]
  },
  {
   "cell_type": "code",
   "execution_count": 31,
   "id": "8b121652",
   "metadata": {},
   "outputs": [],
   "source": [
    "lengths_test = df_test['img_path'].apply(lambda x: len(find_squares(cv.imread(x)))/12)"
   ]
  },
  {
   "cell_type": "code",
   "execution_count": 32,
   "id": "2c1ddf15",
   "metadata": {},
   "outputs": [],
   "source": [
    "lengths_test = abs(lengths_test-3.23)"
   ]
  },
  {
   "cell_type": "code",
   "execution_count": 25,
   "id": "db5d10ff",
   "metadata": {},
   "outputs": [
    {
     "data": {
      "text/html": [
       "<div>\n",
       "<style scoped>\n",
       "    .dataframe tbody tr th:only-of-type {\n",
       "        vertical-align: middle;\n",
       "    }\n",
       "\n",
       "    .dataframe tbody tr th {\n",
       "        vertical-align: top;\n",
       "    }\n",
       "\n",
       "    .dataframe thead th {\n",
       "        text-align: right;\n",
       "    }\n",
       "</style>\n",
       "<table border=\"1\" class=\"dataframe\">\n",
       "  <thead>\n",
       "    <tr style=\"text-align: right;\">\n",
       "      <th></th>\n",
       "      <th>label</th>\n",
       "    </tr>\n",
       "  </thead>\n",
       "  <tbody>\n",
       "    <tr>\n",
       "      <th>0</th>\n",
       "      <td>0</td>\n",
       "    </tr>\n",
       "    <tr>\n",
       "      <th>1</th>\n",
       "      <td>0</td>\n",
       "    </tr>\n",
       "    <tr>\n",
       "      <th>2</th>\n",
       "      <td>0</td>\n",
       "    </tr>\n",
       "    <tr>\n",
       "      <th>3</th>\n",
       "      <td>0</td>\n",
       "    </tr>\n",
       "    <tr>\n",
       "      <th>4</th>\n",
       "      <td>0</td>\n",
       "    </tr>\n",
       "    <tr>\n",
       "      <th>...</th>\n",
       "      <td>...</td>\n",
       "    </tr>\n",
       "    <tr>\n",
       "      <th>5995</th>\n",
       "      <td>0</td>\n",
       "    </tr>\n",
       "    <tr>\n",
       "      <th>5996</th>\n",
       "      <td>0</td>\n",
       "    </tr>\n",
       "    <tr>\n",
       "      <th>5997</th>\n",
       "      <td>0</td>\n",
       "    </tr>\n",
       "    <tr>\n",
       "      <th>5998</th>\n",
       "      <td>0</td>\n",
       "    </tr>\n",
       "    <tr>\n",
       "      <th>5999</th>\n",
       "      <td>0</td>\n",
       "    </tr>\n",
       "  </tbody>\n",
       "</table>\n",
       "<p>6000 rows × 1 columns</p>\n",
       "</div>"
      ],
      "text/plain": [
       "      label\n",
       "0         0\n",
       "1         0\n",
       "2         0\n",
       "3         0\n",
       "4         0\n",
       "...     ...\n",
       "5995      0\n",
       "5996      0\n",
       "5997      0\n",
       "5998      0\n",
       "5999      0\n",
       "\n",
       "[6000 rows x 1 columns]"
      ]
     },
     "execution_count": 25,
     "metadata": {},
     "output_type": "execute_result"
    }
   ],
   "source": [
    "pd.read_csv('sample_submission.csv')"
   ]
  },
  {
   "cell_type": "code",
   "execution_count": null,
   "id": "36269161",
   "metadata": {},
   "outputs": [],
   "source": [
    "regr.predict([[i] for i in x**2])"
   ]
  },
  {
   "cell_type": "code",
   "execution_count": null,
   "id": "1576ee00",
   "metadata": {},
   "outputs": [],
   "source": [
    "lengths_test = _"
   ]
  },
  {
   "cell_type": "code",
   "execution_count": 33,
   "id": "7c47e8f4",
   "metadata": {},
   "outputs": [],
   "source": [
    "df_t = pd.DataFrame({'label':  [int(i) for i in lengths_test]})\n",
    "df_t.to_csv('answer.csv', index=False)"
   ]
  },
  {
   "cell_type": "code",
   "execution_count": null,
   "id": "c08a1a79",
   "metadata": {},
   "outputs": [],
   "source": []
  }
 ],
 "metadata": {
  "kernelspec": {
   "display_name": "Python 3 (ipykernel)",
   "language": "python",
   "name": "python3"
  },
  "language_info": {
   "codemirror_mode": {
    "name": "ipython",
    "version": 3
   },
   "file_extension": ".py",
   "mimetype": "text/x-python",
   "name": "python",
   "nbconvert_exporter": "python",
   "pygments_lexer": "ipython3",
   "version": "3.9.7"
  }
 },
 "nbformat": 4,
 "nbformat_minor": 5
}
