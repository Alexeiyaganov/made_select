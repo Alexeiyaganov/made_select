{
 "cells": [
  {
   "cell_type": "code",
   "execution_count": 1,
   "id": "0c8a873c",
   "metadata": {},
   "outputs": [],
   "source": [
    "import pandas as pd\n",
    "from sklearn.model_selection import train_test_split\n",
    "from sklearn.metrics import f1_score"
   ]
  },
  {
   "cell_type": "code",
   "execution_count": 2,
   "id": "ea4331c5",
   "metadata": {},
   "outputs": [],
   "source": [
    "df = pd.read_csv('train.csv')"
   ]
  },
  {
   "cell_type": "code",
   "execution_count": 3,
   "id": "18421e21",
   "metadata": {},
   "outputs": [],
   "source": [
    "y = df.pop('target')"
   ]
  },
  {
   "cell_type": "code",
   "execution_count": 4,
   "id": "5bc3471b",
   "metadata": {},
   "outputs": [
    {
     "data": {
      "text/plain": [
       "0.28723251472066635"
      ]
     },
     "execution_count": 4,
     "metadata": {},
     "output_type": "execute_result"
    }
   ],
   "source": [
    "sum(y)/len(y)"
   ]
  },
  {
   "cell_type": "code",
   "execution_count": 5,
   "id": "a47ef090",
   "metadata": {},
   "outputs": [],
   "source": [
    "# !pip install -U imbalanced-learn"
   ]
  },
  {
   "cell_type": "code",
   "execution_count": 6,
   "id": "a21dd805",
   "metadata": {},
   "outputs": [],
   "source": [
    "X_train, X_test, y_train, y_test = train_test_split(df, y, random_state=10)"
   ]
  },
  {
   "cell_type": "code",
   "execution_count": 7,
   "id": "0db7572c",
   "metadata": {},
   "outputs": [
    {
     "data": {
      "text/plain": [
       "(5222, 1741)"
      ]
     },
     "execution_count": 7,
     "metadata": {},
     "output_type": "execute_result"
    }
   ],
   "source": [
    "len(y_train), len(y_test)"
   ]
  },
  {
   "cell_type": "code",
   "execution_count": 8,
   "id": "aa998ebb",
   "metadata": {},
   "outputs": [],
   "source": [
    "from imblearn.ensemble import BalancedRandomForestClassifier, RUSBoostClassifier\n",
    "from sklearn.ensemble import GradientBoostingClassifier\n",
    "from sklearn.naive_bayes import GaussianNB\n",
    "from sklearn.svm import SVC"
   ]
  },
  {
   "cell_type": "code",
   "execution_count": 9,
   "id": "37a2f74d",
   "metadata": {},
   "outputs": [],
   "source": [
    "# brf = BalancedRandomForestClassifier(n_estimators=2, random_state=0)\n",
    "# brf = RUSBoostClassifier(n_estimators=2, algorithm='SAMME.R',\n",
    "#                               random_state=0)\n",
    "# brf = GradientBoostingClassifier()\n",
    "# brf = GaussianNB()\n",
    "brf = SVC()\n",
    "brf.fit(X_train, y_train) \n",
    "y_pred = brf.predict(X_test)"
   ]
  },
  {
   "cell_type": "code",
   "execution_count": 10,
   "id": "00d8993e",
   "metadata": {},
   "outputs": [
    {
     "data": {
      "text/plain": [
       "0.9109311740890688"
      ]
     },
     "execution_count": 10,
     "metadata": {},
     "output_type": "execute_result"
    }
   ],
   "source": [
    "f1_score(y_test, y_pred)"
   ]
  },
  {
   "cell_type": "code",
   "execution_count": 11,
   "id": "255cbed7",
   "metadata": {},
   "outputs": [
    {
     "data": {
      "text/plain": [
       "SVC()"
      ]
     },
     "execution_count": 11,
     "metadata": {},
     "output_type": "execute_result"
    }
   ],
   "source": [
    "brf = SVC()\n",
    "brf.fit(df, y)"
   ]
  },
  {
   "cell_type": "code",
   "execution_count": 12,
   "id": "f4694825",
   "metadata": {},
   "outputs": [
    {
     "data": {
      "text/plain": [
       "0.9605974761782127"
      ]
     },
     "execution_count": 12,
     "metadata": {},
     "output_type": "execute_result"
    }
   ],
   "source": [
    "f1_score(y, brf.predict(df))"
   ]
  },
  {
   "cell_type": "code",
   "execution_count": 13,
   "id": "81fc9540",
   "metadata": {},
   "outputs": [],
   "source": [
    "df_t = pd.read_csv('test.csv')"
   ]
  },
  {
   "cell_type": "code",
   "execution_count": 14,
   "id": "f4a62f4d",
   "metadata": {},
   "outputs": [],
   "source": [
    "ans = pd.DataFrame({'target': brf.predict(df_t)})"
   ]
  },
  {
   "cell_type": "code",
   "execution_count": 15,
   "id": "c5ce5aba",
   "metadata": {},
   "outputs": [],
   "source": [
    "sub = pd.read_csv('sample_submission.csv')"
   ]
  },
  {
   "cell_type": "code",
   "execution_count": 16,
   "id": "cc7ac388",
   "metadata": {},
   "outputs": [
    {
     "data": {
      "text/plain": [
       "(3920, 3920)"
      ]
     },
     "execution_count": 16,
     "metadata": {},
     "output_type": "execute_result"
    }
   ],
   "source": [
    "len(sub), len(df_t)"
   ]
  },
  {
   "cell_type": "code",
   "execution_count": 17,
   "id": "3ed0d55d",
   "metadata": {},
   "outputs": [],
   "source": [
    "ans.to_csv('answer_1.csv', index=False)"
   ]
  },
  {
   "cell_type": "code",
   "execution_count": 18,
   "id": "fcbbb5f3",
   "metadata": {},
   "outputs": [
    {
     "data": {
      "text/plain": [
       "3920"
      ]
     },
     "execution_count": 18,
     "metadata": {},
     "output_type": "execute_result"
    }
   ],
   "source": [
    "len(ans)"
   ]
  },
  {
   "cell_type": "code",
   "execution_count": null,
   "id": "626e3309",
   "metadata": {},
   "outputs": [],
   "source": []
  }
 ],
 "metadata": {
  "kernelspec": {
   "display_name": "Python 3 (ipykernel)",
   "language": "python",
   "name": "python3"
  },
  "language_info": {
   "codemirror_mode": {
    "name": "ipython",
    "version": 3
   },
   "file_extension": ".py",
   "mimetype": "text/x-python",
   "name": "python",
   "nbconvert_exporter": "python",
   "pygments_lexer": "ipython3",
   "version": "3.9.7"
  }
 },
 "nbformat": 4,
 "nbformat_minor": 5
}
